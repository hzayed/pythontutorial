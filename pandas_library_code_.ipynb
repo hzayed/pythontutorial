{
  "nbformat": 4,
  "nbformat_minor": 0,
  "metadata": {
    "colab": {
      "name": "pandas library code  .ipynb",
      "provenance": [],
      "authorship_tag": "ABX9TyNB8nkZK2Qfper58bo3HPRh",
      "include_colab_link": true
    },
    "kernelspec": {
      "name": "python3",
      "display_name": "Python 3"
    },
    "language_info": {
      "name": "python"
    }
  },
  "cells": [
    {
      "cell_type": "markdown",
      "metadata": {
        "id": "view-in-github",
        "colab_type": "text"
      },
      "source": [
        "<a href=\"https://colab.research.google.com/github/hzayed/pythontutorial/blob/main/pandas_library_code_.ipynb\" target=\"_parent\"><img src=\"https://colab.research.google.com/assets/colab-badge.svg\" alt=\"Open In Colab\"/></a>"
      ]
    },
    {
      "cell_type": "code",
      "metadata": {
        "id": "-3PQwfRL02Ey"
      },
      "source": [
        "import pandas as pd \n",
        "import io   \n",
        "from google.colab import files\n",
        "uploaded =files.upload()\n",
        "\n",
        "df =pd.read_csv(io.BytesIO(uploaded['covid_vaccine_statewise.csv']))#مشان اعمل الداتا على شكل داتا فريم  جبتها من موقع كاغل kaggle\n",
        " \n",
        "df.fillna(10) #Replace all null values with 0\n",
        "df.groupby('State') #Returns a groupby object for values from one column\n",
        "df.replace(0.0,'zero') #| Replace all values equal to 1 with 'one'\n",
        "df.rename(columns={'State': 'States'}) #| Selective renaming\n",
        "df[' Sites '].max() #| Returns the mean of all columns\n",
        "df.columns = ['a','b','c'] | Rename columns\n",
        "df.sort_values('Sites')#| Sort values by col1 in ascending order"
      ],
      "execution_count": null,
      "outputs": []
    }
  ]
}