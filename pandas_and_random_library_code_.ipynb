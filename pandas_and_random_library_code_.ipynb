{
  "nbformat": 4,
  "nbformat_minor": 0,
  "metadata": {
    "colab": {
      "name": "pandas and random library code  .ipynb",
      "provenance": [],
      "authorship_tag": "ABX9TyO7+JCajXWv/58g5k9GCZTo",
      "include_colab_link": true
    },
    "kernelspec": {
      "name": "python3",
      "display_name": "Python 3"
    },
    "language_info": {
      "name": "python"
    }
  },
  "cells": [
    {
      "cell_type": "markdown",
      "metadata": {
        "id": "view-in-github",
        "colab_type": "text"
      },
      "source": [
        "<a href=\"https://colab.research.google.com/github/hzayed/pythontutorial/blob/main/pandas_and_random_library_code_.ipynb\" target=\"_parent\"><img src=\"https://colab.research.google.com/assets/colab-badge.svg\" alt=\"Open In Colab\"/></a>"
      ]
    },
    {
      "cell_type": "code",
      "metadata": {
        "id": "-3PQwfRL02Ey"
      },
      "source": [
        "import random\n",
        "import pandas as pd\n",
        "\n",
        " random number from 0 to 1\n",
        " print(random.random())\n",
        " Output 0.16123124494385477\n",
        "\n",
        "  random number from 10 to 20\n",
        "  print(random.randint(10, 20))\n",
        "  Output 18\n",
        "\n",
        "  random number from 10 to 20 with step 2\n",
        "  print(random.randrange(10, 20, 2))\n",
        "  Output 14\n",
        "\n",
        " random float number within a range\n",
        " print(random.uniform(5.5, 25.5))\n",
        " Output 5.86390810771935\n",
        "\n",
        " random choice from sequence\n",
        " print(random.choice([10, 20, 30, 40, 50]))\n",
        " Output 30\n",
        "\n",
        "\n",
        " random sample from sequence\n",
        " print(random.sample([10, 20, 30, 40, 50], k=3))\n",
        " Output [50, 10, 20]\n",
        "\n",
        "\n",
        "random sample without replacement\n",
        "print(random.choices([10, 20, 30, 40, 50], k=3))\n",
        " Output [30, 10, 40]\n",
        "\n",
        " random shuffle\n",
        " x = [10, 20, 30, 40, 50, 60]\n",
        " random.shuffle(x)\n",
        " print(x)\n",
        " \n",
        "\n",
        " random seed\n",
        " random.seed(1)\n",
        " print(random.randint(10, 20))\n",
        "\n",
        " random.seed(2)\n",
        " print(random.randint(10, 20))\n",
        "\n",
        "friuts = ['apple', 'carrot']# transfer into table(data frame)\n",
        "print(friuts)\n",
        "student_df = pd.DataFrame (friuts,columns=['fruits'],index=[1,2])\n",
        "print(student_df)\n",
        "student_df = student_df.drop(columns=['fruits'])\n",
        "print(student_df.columns.values)\n",
        " \n",
        "\n",
        "\n"
      ],
      "execution_count": null,
      "outputs": []
    }
  ]
}