--******** create a function to make a calculator***********************
       def calc(a,b,op):
         if op=='+':
           print('a+b =',a+b)
         elif op=='-':
           print('a-b =',a-b)
         elif op=='*':
           print('a*b =',a*b)
          elif op=='/':
            print('a/b =',a/b)
          elif op=='//':
            print('a//b =',a//b)
          elif op=='%':
            print('a mod b =',a%b)
           else :
          print('The operation is not exist')
-- call the "cal" function :
   calc(2,5,'+')
   calc(5,3,'/')
   calc(6,4,'%')
   calc(2,3,'//')
   calc(5,4,'*')
   calc(1,4,'-')
   calc(1,4,'=')
   -- the output of these calls:   
   result:
   a+b = 7
   a/b = 1.6666666666666667
   a mod b = 2
   a//b = 0
   a*b = 20
   a-b = -3
   The operation is not exist 
       

--****** another way to create a function to make a calculator ***************
        def calc1(num1,num2):
            sum=num1+num2
            sub=num1-num2
            mul=num1*num2
            div=num1/num2
           return sum,sub,mul,div

       sum,sub,mul,div=calc1(5,3)
       print(sum)
       print(sub)
       print(mul)
       print(div)
       num1=int(input('ENTER N1'))
       num2=int(input('ENTER N2'))
       sum,sub,mul,div=calc1(num1,num2)
        
       print(sum)
       print(sub)
       print(mul)
       print(div)
   -- the a output of this function :    
        result:
        8
        2
        15
        1.6666666666666667
        ENTER N13
        ENTER N25
         8
        -2
        15
        0.6
  
