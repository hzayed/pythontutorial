{
  "nbformat": 4,
  "nbformat_minor": 0,
  "metadata": {
    "colab": {
      "name": "Untitled2.ipynb",
      "provenance": [],
      "authorship_tag": "ABX9TyNMvPi8NyGrKO1CsZpb1Cd1",
      "include_colab_link": true
    },
    "kernelspec": {
      "name": "python3",
      "display_name": "Python 3"
    },
    "language_info": {
      "name": "python"
    }
  },
  "cells": [
    {
      "cell_type": "markdown",
      "metadata": {
        "id": "view-in-github",
        "colab_type": "text"
      },
      "source": [
        "<a href=\"https://colab.research.google.com/github/hzayed/pythontutorial/blob/main/Untitled2.ipynb\" target=\"_parent\"><img src=\"https://colab.research.google.com/assets/colab-badge.svg\" alt=\"Open In Colab\"/></a>"
      ]
    },
    {
      "cell_type": "code",
      "metadata": {
        "id": "29uIzWofrc-L"
      },
      "source": [
        "def calc(a,b,op):\n",
        "  if op=='+':\n",
        "     print('a+b =',a+b)\n",
        "  elif op=='-':\n",
        "     print('a-b =',a-b)\n",
        "  elif op=='*':\n",
        "     print('a*b =',a*b)\n",
        "  elif op=='/':\n",
        "     print('a/b =',a/b)\n",
        "  elif op=='//':\n",
        "     print('a//b =',a//b)\n",
        "  elif op=='%':\n",
        "     print('a mod b =',a%b)\n",
        "  else :\n",
        "     print('The operation is not exist')#ممكن نستخدم كلمة pass\n",
        "calc(2,5,'+')\n",
        "calc(5,3,'/')\n",
        "calc(6,4,'%')\n",
        "calc(2,3,'//')\n",
        "calc(5,4,'*')\n",
        "calc(1,4,'-')\n",
        "calc(1,4,'=')\n",
        "\n",
        "result:\n",
        "a+b = 7\n",
        "a/b = 1.6666666666666667\n",
        "a mod b = 2\n",
        "a//b = 0\n",
        "a*b = 20\n",
        "a-b = -3\n",
        "The operation is not exist \n",
        "\n",
        "\n",
        "\n",
        "\n",
        "\n",
        "def calc1(num1,num2):\n",
        "  sum=num1+num2\n",
        "  sub=num1-num2\n",
        "  mul=num1*num2\n",
        "  div=num1/num2\n",
        "  return sum,sub,mul,div\n",
        "sum,sub,mul,div=calc1(5,3)\n",
        "print(sum)\n",
        "print(sub)\n",
        "print(mul)\n",
        "print(div)\n",
        "num1=int(input('ENTER N1'))\n",
        "num2=int(input('ENTER N2'))\n",
        "sum,sub,mul,div=calc1(num1,num2)\n",
        "\n",
        "print(sum)\n",
        "print(sub)\n",
        "print(mul)\n",
        "print(div)\n",
        "\n",
        "result:\n",
        "8\n",
        "2\n",
        "15\n",
        "1.6666666666666667\n",
        "ENTER N13\n",
        "ENTER N25\n",
        "8\n",
        "-2\n",
        "15\n",
        "0.6\n",
        "\n"
      ],
      "execution_count": null,
      "outputs": []
    }
  ]
}